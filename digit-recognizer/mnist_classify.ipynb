{
  "nbformat": 4,
  "nbformat_minor": 0,
  "metadata": {
    "colab": {
      "name": "AI_Assignment.ipynb",
      "version": "0.3.2",
      "views": {},
      "default_view": {},
      "provenance": []
    },
    "kernelspec": {
      "name": "python3",
      "display_name": "Python 3"
    },
    "accelerator": "GPU"
  },
  "cells": [
    {
      "metadata": {
        "id": "Dye67_RK7e8z",
        "colab_type": "code",
        "colab": {
          "autoexec": {
            "startup": false,
            "wait_interval": 0
          }
        }
      },
      "cell_type": "code",
      "source": [
        "#  AI Assignment\n",
        "#     \n",
        "#     Submitted by \n",
        "#     Sushaanth P (14CO148)\n",
        "\n",
        "\n",
        "!pip install -q keras\n"
      ],
      "execution_count": 0,
      "outputs": []
    },
    {
      "metadata": {
        "id": "HXupBX5z8vTB",
        "colab_type": "code",
        "colab": {
          "autoexec": {
            "startup": false,
            "wait_interval": 0
          }
        }
      },
      "cell_type": "code",
      "source": [
        "from __future__ import print_function\n",
        "\n",
        "import keras\n",
        "from keras.datasets import mnist\n",
        "from keras.models import Sequential\n",
        "from keras.layers import Dense, Dropout\n",
        "import keras.optimizers\n",
        "\n",
        "batch_size = 128\n",
        "num_classes = 10\n",
        "epochs = 20\n"
      ],
      "execution_count": 0,
      "outputs": []
    },
    {
      "metadata": {
        "id": "TabTu9nM8MlJ",
        "colab_type": "code",
        "colab": {
          "autoexec": {
            "startup": false,
            "wait_interval": 0
          },
          "output_extras": [
            {}
          ],
          "base_uri": "https://localhost:8080/",
          "height": 50
        },
        "outputId": "f4a4c8a2-7f56-461e-b78b-7a645e3337c3",
        "executionInfo": {
          "status": "ok",
          "timestamp": 1519763933307,
          "user_tz": -330,
          "elapsed": 1481,
          "user": {
            "displayName": "Sushaanth P",
            "photoUrl": "//lh3.googleusercontent.com/-5DOMFFhuRUI/AAAAAAAAAAI/AAAAAAAABLA/i4jrqUMsvgE/s50-c-k-no/photo.jpg",
            "userId": "106042797218789126709"
          }
        }
      },
      "cell_type": "code",
      "source": [
        "# the data, split between train and test sets\n",
        "(x_train, y_train), (x_test, y_test) = mnist.load_data()\n",
        "\n",
        "x_train = x_train.reshape(60000, 784)\n",
        "x_test = x_test.reshape(10000, 784)\n",
        "x_train = x_train.astype('float32')\n",
        "x_test = x_test.astype('float32')\n",
        "x_train /= 255\n",
        "x_test /= 255\n",
        "print(x_train.shape[0], 'train samples')\n",
        "print(x_test.shape[0], 'test samples')\n",
        "\n"
      ],
      "execution_count": 0,
      "outputs": [
        {
          "output_type": "stream",
          "text": [
            "60000 train samples\n",
            "10000 test samples\n"
          ],
          "name": "stdout"
        }
      ]
    },
    {
      "metadata": {
        "id": "M0Fo9huK8RcV",
        "colab_type": "code",
        "colab": {
          "autoexec": {
            "startup": false,
            "wait_interval": 0
          }
        }
      },
      "cell_type": "code",
      "source": [
        "# changing to binary class matrices from class vectors \n",
        "y_train = keras.utils.to_categorical(y_train, num_classes)\n",
        "y_test = keras.utils.to_categorical(y_test, num_classes)\n",
        "\n"
      ],
      "execution_count": 0,
      "outputs": []
    },
    {
      "metadata": {
        "id": "UFC5kEZx8ReO",
        "colab_type": "code",
        "colab": {
          "autoexec": {
            "startup": false,
            "wait_interval": 0
          },
          "output_extras": [
            {}
          ],
          "base_uri": "https://localhost:8080/",
          "height": 234
        },
        "outputId": "8098dc88-0916-4114-c7d7-3fa42fe4e43e",
        "executionInfo": {
          "status": "ok",
          "timestamp": 1519763937872,
          "user_tz": -330,
          "elapsed": 1578,
          "user": {
            "displayName": "Sushaanth P",
            "photoUrl": "//lh3.googleusercontent.com/-5DOMFFhuRUI/AAAAAAAAAAI/AAAAAAAABLA/i4jrqUMsvgE/s50-c-k-no/photo.jpg",
            "userId": "106042797218789126709"
          }
        }
      },
      "cell_type": "code",
      "source": [
        "model = Sequential()\n",
        "model.add(Dense(512, activation='relu', input_shape=(784,)))\n",
        "model.add(Dense(512, activation='relu'))\n",
        "model.add(Dense(num_classes, activation='softmax'))\n",
        "\n",
        "model.summary()\n",
        "\n"
      ],
      "execution_count": 0,
      "outputs": [
        {
          "output_type": "stream",
          "text": [
            "_________________________________________________________________\n",
            "Layer (type)                 Output Shape              Param #   \n",
            "=================================================================\n",
            "dense_1 (Dense)              (None, 512)               401920    \n",
            "_________________________________________________________________\n",
            "dense_2 (Dense)              (None, 512)               262656    \n",
            "_________________________________________________________________\n",
            "dense_3 (Dense)              (None, 10)                5130      \n",
            "=================================================================\n",
            "Total params: 669,706\n",
            "Trainable params: 669,706\n",
            "Non-trainable params: 0\n",
            "_________________________________________________________________\n"
          ],
          "name": "stdout"
        }
      ]
    },
    {
      "metadata": {
        "id": "Gz3ktS2p8Rh7",
        "colab_type": "code",
        "colab": {
          "autoexec": {
            "startup": false,
            "wait_interval": 0
          },
          "output_extras": [
            {
              "item_id": 63
            },
            {
              "item_id": 118
            },
            {
              "item_id": 141
            },
            {
              "item_id": 170
            },
            {
              "item_id": 193
            },
            {
              "item_id": 222
            },
            {
              "item_id": 246
            },
            {
              "item_id": 275
            },
            {
              "item_id": 279
            }
          ],
          "base_uri": "https://localhost:8080/",
          "height": 756
        },
        "outputId": "bc9405fe-d8de-4502-fcd9-110ec0f7a7cf",
        "executionInfo": {
          "status": "ok",
          "timestamp": 1519766374364,
          "user_tz": -330,
          "elapsed": 208153,
          "user": {
            "displayName": "",
            "photoUrl": "",
            "userId": ""
          }
        }
      },
      "cell_type": "code",
      "source": [
        "adadelta = keras.optimizers.Adadelta(lr=1.0, rho=0.95, epsilon=None, decay=0.0)\n",
        "# adagrad = keras.optimizers.Adagrad(lr=0.01, epsilon=None, decay=0.0)\n",
        "# rmsprop = keras.optimizers.RMSprop(lr=0.001, rho=0.9, epsilon=None, decay=0.0)\n",
        "# adamax = keras.optimizers.Adamax(lr=0.002, beta_1=0.9, beta_2=0.999, epsilon=None, decay=0.0)\n",
        "\n",
        "model.compile(loss='categorical_crossentropy',\n",
        "              optimizer=adadelta,\n",
        "              metrics=['accuracy'])\n",
        "\n",
        "history = model.fit(x_train, y_train,\n",
        "                    batch_size=batch_size,\n",
        "                    epochs=epochs,\n",
        "                    verbose=1,\n",
        "                    validation_data=(x_test, y_test))\n",
        "score = model.evaluate(x_test, y_test, verbose=0)\n",
        "print('Test loss:', score[0])\n",
        "print('Test accuracy:', score[1])"
      ],
      "execution_count": 21,
      "outputs": [
        {
          "output_type": "stream",
          "text": [
            "Train on 60000 samples, validate on 10000 samples\n",
            "Epoch 1/20\n",
            "60000/60000 [==============================] - 11s 177us/step - loss: 2.6939e-04 - acc: 1.0000 - val_loss: 0.1271 - val_acc: 0.9857\n",
            "Epoch 2/20\n",
            "60000/60000 [==============================] - 11s 177us/step - loss: 2.6938e-04 - acc: 1.0000 - val_loss: 0.1272 - val_acc: 0.9857\n",
            "Epoch 3/20\n",
            "23040/60000 [==========>...................] - ETA: 6s - loss: 7.0025e-04 - acc: 1.0000"
          ],
          "name": "stdout"
        },
        {
          "output_type": "stream",
          "text": [
            "60000/60000 [==============================] - 11s 178us/step - loss: 2.6937e-04 - acc: 1.0000 - val_loss: 0.1272 - val_acc: 0.9857\n",
            "Epoch 4/20\n",
            "60000/60000 [==============================] - 11s 176us/step - loss: 2.6936e-04 - acc: 1.0000 - val_loss: 0.1272 - val_acc: 0.9857\n",
            "Epoch 5/20\n",
            "52864/60000 [=========================>....] - ETA: 1s - loss: 3.0564e-04 - acc: 1.0000"
          ],
          "name": "stdout"
        },
        {
          "output_type": "stream",
          "text": [
            "60000/60000 [==============================] - 10s 173us/step - loss: 2.6935e-04 - acc: 1.0000 - val_loss: 0.1272 - val_acc: 0.9857\n",
            "Epoch 6/20\n",
            "60000/60000 [==============================] - 10s 170us/step - loss: 2.6934e-04 - acc: 1.0000 - val_loss: 0.1273 - val_acc: 0.9857\n",
            "Epoch 7/20\n",
            "60000/60000 [==============================] - 10s 166us/step - loss: 2.6933e-04 - acc: 1.0000 - val_loss: 0.1273 - val_acc: 0.9857\n",
            "Epoch 8/20\n",
            " 1280/60000 [..............................] - ETA: 9s - loss: 3.0054e-07 - acc: 1.0000"
          ],
          "name": "stdout"
        },
        {
          "output_type": "stream",
          "text": [
            "60000/60000 [==============================] - 10s 168us/step - loss: 2.6933e-04 - acc: 1.0000 - val_loss: 0.1273 - val_acc: 0.9857\n",
            "Epoch 9/20\n",
            "60000/60000 [==============================] - 10s 167us/step - loss: 2.6932e-04 - acc: 1.0000 - val_loss: 0.1273 - val_acc: 0.9857\n",
            "Epoch 10/20\n",
            "50176/60000 [========================>.....] - ETA: 1s - loss: 3.2192e-04 - acc: 1.0000"
          ],
          "name": "stdout"
        },
        {
          "output_type": "stream",
          "text": [
            "60000/60000 [==============================] - 10s 168us/step - loss: 2.6931e-04 - acc: 1.0000 - val_loss: 0.1273 - val_acc: 0.9857\n",
            "Epoch 11/20\n",
            "60000/60000 [==============================] - 10s 168us/step - loss: 2.6930e-04 - acc: 1.0000 - val_loss: 0.1274 - val_acc: 0.9857\n",
            "Epoch 12/20\n",
            "60000/60000 [==============================] - 10s 167us/step - loss: 2.6929e-04 - acc: 1.0000 - val_loss: 0.1274 - val_acc: 0.9857\n",
            "Epoch 13/20\n",
            "  512/60000 [..............................] - ETA: 9s - loss: 1.0028e-06 - acc: 1.0000 "
          ],
          "name": "stdout"
        },
        {
          "output_type": "stream",
          "text": [
            "60000/60000 [==============================] - 10s 166us/step - loss: 2.6929e-04 - acc: 1.0000 - val_loss: 0.1274 - val_acc: 0.9857\n",
            "Epoch 14/20\n",
            "60000/60000 [==============================] - 10s 167us/step - loss: 2.6928e-04 - acc: 1.0000 - val_loss: 0.1274 - val_acc: 0.9857\n",
            "Epoch 15/20\n",
            "49664/60000 [=======================>......] - ETA: 1s - loss: 3.2519e-04 - acc: 1.0000"
          ],
          "name": "stdout"
        },
        {
          "output_type": "stream",
          "text": [
            "60000/60000 [==============================] - 10s 171us/step - loss: 2.6927e-04 - acc: 1.0000 - val_loss: 0.1274 - val_acc: 0.9857\n",
            "Epoch 16/20\n",
            "60000/60000 [==============================] - 10s 167us/step - loss: 2.6927e-04 - acc: 1.0000 - val_loss: 0.1275 - val_acc: 0.9857\n",
            "Epoch 17/20\n",
            "60000/60000 [==============================] - 10s 169us/step - loss: 2.6926e-04 - acc: 1.0000 - val_loss: 0.1275 - val_acc: 0.9857\n",
            "Epoch 18/20\n",
            "  128/60000 [..............................] - ETA: 11s - loss: 1.1921e-07 - acc: 1.0000"
          ],
          "name": "stdout"
        },
        {
          "output_type": "stream",
          "text": [
            "60000/60000 [==============================] - 10s 171us/step - loss: 2.6925e-04 - acc: 1.0000 - val_loss: 0.1275 - val_acc: 0.9857\n",
            "Epoch 19/20\n",
            "60000/60000 [==============================] - 10s 168us/step - loss: 2.6925e-04 - acc: 1.0000 - val_loss: 0.1275 - val_acc: 0.9857\n",
            "Epoch 20/20\n",
            "49408/60000 [=======================>......] - ETA: 1s - loss: 5.8618e-07 - acc: 1.0000"
          ],
          "name": "stdout"
        },
        {
          "output_type": "stream",
          "text": [
            "60000/60000 [==============================] - 10s 169us/step - loss: 2.6924e-04 - acc: 1.0000 - val_loss: 0.1275 - val_acc: 0.9857\n",
            "Test loss: 0.12752081645107174\n",
            "Test accuracy: 0.9857\n"
          ],
          "name": "stdout"
        }
      ]
    },
    {
      "metadata": {
        "id": "Q1NuQlXK8Z5i",
        "colab_type": "code",
        "colab": {
          "autoexec": {
            "startup": false,
            "wait_interval": 0
          },
          "output_extras": [
            {}
          ],
          "base_uri": "https://localhost:8080/",
          "height": 50
        },
        "outputId": "459cb5c8-78cd-49b3-f9c1-bef746d29c84",
        "executionInfo": {
          "status": "ok",
          "timestamp": 1519765163050,
          "user_tz": -330,
          "elapsed": 1489,
          "user": {
            "displayName": "Sushaanth P",
            "photoUrl": "//lh3.googleusercontent.com/-5DOMFFhuRUI/AAAAAAAAAAI/AAAAAAAABLA/i4jrqUMsvgE/s50-c-k-no/photo.jpg",
            "userId": "106042797218789126709"
          }
        }
      },
      "cell_type": "code",
      "source": [
        "print('Test loss:', score[0])\n",
        "print('Test accuracy:', score[1])"
      ],
      "execution_count": 0,
      "outputs": [
        {
          "output_type": "stream",
          "text": [
            "Test loss: 0.12645532401633572\n",
            "Test accuracy: 0.9852\n"
          ],
          "name": "stdout"
        }
      ]
    }
  ]
}